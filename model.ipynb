{
  "nbformat": 4,
  "nbformat_minor": 0,
  "metadata": {
    "colab": {
      "name": "186068_Lab4.ipynb",
      "provenance": [],
      "collapsed_sections": [],
      "toc_visible": true
    },
    "kernelspec": {
      "name": "python3",
      "display_name": "Python 3"
    },
    "language_info": {
      "name": "python"
    }
  },
  "cells": [
    {
      "cell_type": "markdown",
      "metadata": {
        "id": "oXyDixxeIujS"
      },
      "source": [
        "# Description of the task and dataset\n",
        "\n",
        "This is a difficult regression task, where the aim is to predict the burned area of forest fires, in the northeast region of Portugal, by using meteorological and other data.\n",
        "\n",
        "\n",
        "1. X - x-axis spatial coordinate within the Montesinho park map: 1 to 9\n",
        "2. Y - y-axis spatial coordinate within the Montesinho park map: 2 to 9\n",
        "3. month - month of the year: 'jan' to 'dec'\n",
        "4. day - day of the week: 'mon' to 'sun'\n",
        "5. FFMC (Fine Fuel Moisture Code) - FFMC index from the FWI system: 18.7 to 96.20\n",
        "6. DMC (Duff Moisture Code) - DMC index from the FWI system: 1.1 to 291.3\n",
        "7. DC (Drought Code) - DC index from the FWI system: 7.9 to 860.6\n",
        "8. ISI (Initial Spread Index) - ISI index from the FWI system: 0.0 to 56.10\n",
        "9. temp - temperature in Celsius degrees: 2.2 to 33.30\n",
        "10. RH (Relative humadity) - relative humidity in %: 15.0 to 100\n",
        "11. wind - wind speed in km/h: 0.40 to 9.40\n",
        "12. rain - outside rain in mm/m2 : 0.0 to 6.4\n",
        "13. area - the burned area of the forest (in ha): 0.00 to 1090.84  \n",
        "(this output variable is very skewed towards 0.0, thus it may make sense to model with the logarithm transform)."
      ]
    },
    {
      "cell_type": "markdown",
      "metadata": {
        "id": "aWwudSdPJVpB"
      },
      "source": [
        "# Libraries"
      ]
    },
    {
      "cell_type": "code",
      "metadata": {
        "id": "GvlqCn5MJ3lX"
      },
      "source": [
        "import pandas as pd\n",
        "import numpy as np\n",
        "\n",
        "import calendar\n",
        "\n",
        "from sklearn.model_selection import train_test_split, LeaveOneOut, cross_val_score, cross_validate, learning_curve, RandomizedSearchCV, cross_val_predict, GridSearchCV, KFold, RepeatedStratifiedKFold\n",
        "from sklearn.metrics import mean_squared_error, r2_score\n",
        "from sklearn.linear_model import LinearRegression\n",
        "from sklearn.preprocessing import PolynomialFeatures, scale, StandardScaler\n",
        "from sklearn.svm import SVR\n",
        "from sklearn.tree import DecisionTreeRegressor\n",
        "from sklearn.ensemble import RandomForestRegressor, GradientBoostingRegressor\n",
        "\n",
        "\n",
        "import seaborn as sns\n",
        "import matplotlib.pyplot as plt\n",
        "import missingno as msno\n",
        "% matplotlib inline\n",
        "\n",
        "from scipy.stats import median_absolute_deviation\n",
        "\n",
        "import tensorflow.keras as tk\n"
      ],
      "execution_count": 75,
      "outputs": []
    },
    {
      "cell_type": "markdown",
      "metadata": {
        "id": "Bpvrg1abKWxT"
      },
      "source": [
        "#Loading dataset"
      ]
    },
    {
      "cell_type": "code",
      "metadata": {
        "id": "DFSTYF9bKbHx"
      },
      "source": [
        "df= pd.read_csv(\"/content/forestfires.csv\")\n",
        "X = df.drop(columns=['area'],axis=1)\n",
        "\n",
        "#encoding \n",
        "month_int = {'jan':1, 'feb':2, 'mar':3, 'apr':4, 'may':5, 'jun':6, 'jul':7, 'aug':8, 'sep':9, 'oct':10, 'nov':11, 'dec':12}\n",
        "day_int = {'mon':1, 'tue':2, 'wed':3, 'thu':4, 'fri':5, 'sat':6, 'sun':7}\n",
        "\n",
        "X['month']= X['month'].apply(lambda x: month_int[x])\n",
        "X['day'] = X['day'].apply(lambda x: day_int[x])\n",
        "\n",
        "#logarithm transformation\n",
        "y = np.log1p(df['area']) "
      ],
      "execution_count": 76,
      "outputs": []
    },
    {
      "cell_type": "markdown",
      "metadata": {
        "id": "wlemq3oMwzdF"
      },
      "source": [
        "# Forest fires around locations (X,Y)"
      ]
    },
    {
      "cell_type": "code",
      "metadata": {
        "colab": {
          "base_uri": "https://localhost:8080/",
          "height": 442
        },
        "id": "u7Hnfn-hvi2X",
        "outputId": "31288f62-e9f2-4deb-c44a-a35b5ebd195e"
      },
      "source": [
        "fig = plt.figure(figsize=(8,7))\n",
        "sns.scatterplot(x=X['X'], y=X['Y'], hue=y, s=150)\n",
        "plt.show()"
      ],
      "execution_count": 127,
      "outputs": [
        {
          "output_type": "display_data",
          "data": {
            "image/png": "[encoded data removed]",
            "text/plain": [
              "<Figure size 576x504 with 1 Axes>"
            ]
          },
          "metadata": {
            "tags": [],
            "needs_background": "light"
          }
        }
      ]
    },
    {
      "cell_type": "markdown",
      "metadata": {
        "id": "9extPHH6yMW4"
      },
      "source": [
        "# Temperatures at different locations"
      ]
    },
    {
      "cell_type": "code",
      "metadata": {
        "colab": {
          "base_uri": "https://localhost:8080/",
          "height": 442
        },
        "id": "nlTZqeKoxoin",
        "outputId": "67cb8baa-c34a-4ace-b7fa-638577c34c23"
      },
      "source": [
        "fig = plt.figure(figsize=(8,7))\n",
        "sns.scatterplot(x=X['X'], y=X['Y'], hue=X['temp'], s=150)\n",
        "plt.show()"
      ],
      "execution_count": 128,
      "outputs": [
        {
          "output_type": "display_data",
          "data": {
            "image/png": "[encoded data removed]",
            "text/plain": [
              "<Figure size 576x504 with 1 Axes>"
            ]
          },
          "metadata": {
            "tags": [],
            "needs_background": "light"
          }
        }
      ]
    },
    {
      "cell_type": "markdown",
      "metadata": {
        "id": "SnbAt9cqW6uL"
      },
      "source": [
        "# Feature Selection\n",
        "\n",
        "First setup: **X, Y, month, day, FFMC, DMC, DC, ISI**  \n",
        "Second setup: **X, Y, month, day, temp, RH, wind, rain**  \n",
        "Third setup: **FFMC, DMC, DC, ISI**  \n",
        "Fourth setup: **temp, RH, wind, rain**"
      ]
    },
    {
      "cell_type": "code",
      "metadata": {
        "id": "L0_q_I1CV_BZ"
      },
      "source": [
        "first_setup = X[['X','Y','month','day','FFMC','DMC','DC','ISI']]\n",
        "second_setup = X[['X','Y','month','day','temp','RH','wind','rain']]\n",
        "third_setup = X[['FFMC','DMC','DC','ISI']]\n",
        "fourth_setup =  X[['temp','RH','wind','rain']]\n",
        "\n",
        "first_setup = StandardScaler().fit_transform(first_setup)\n",
        "second_setup = StandardScaler().fit_transform(second_setup)\n",
        "third_setup = StandardScaler().fit_transform(third_setup)\n",
        "fourth_setup = StandardScaler().fit_transform(fourth_setup)"
      ],
      "execution_count": 77,
      "outputs": []
    },
    {
      "cell_type": "markdown",
      "metadata": {
        "id": "jZEUI0MV6tJD"
      },
      "source": [
        "# Train, valid sets"
      ]
    },
    {
      "cell_type": "code",
      "metadata": {
        "id": "AO8Oi4qT7e14"
      },
      "source": [
        "ratio_train = 0.8\n",
        "random_st = 42\n",
        "\n",
        "x_trainF, x_validF, y_trainF, y_validF = train_test_split(first_setup,y,train_size=ratio_train, random_state=random_st)\n",
        "x_trainS, x_validS, y_trainS, y_validS = train_test_split(second_setup,y,train_size=ratio_train, random_state=random_st)\n",
        "x_trainT, x_validT, y_trainT, y_validT = train_test_split(third_setup,y,train_size=ratio_train, random_state=random_st)\n",
        "x_trainO, x_validO, y_trainO, y_validO = train_test_split(fourth_setup,y,train_size=ratio_train, random_state=random_st)"
      ],
      "execution_count": 78,
      "outputs": []
    },
    {
      "cell_type": "markdown",
      "metadata": {
        "id": "pZg79X7rBho5"
      },
      "source": [
        "#Multiple Regression\n",
        "\n",
        "The best Multivariable Regression model is with **third setup** of feature selection among the others setups. R^2 is very bad, cause it predicts worse than the horizontal line (mean value)."
      ]
    },
    {
      "cell_type": "code",
      "metadata": {
        "colab": {
          "base_uri": "https://localhost:8080/"
        },
        "id": "knTaFM8TBMiz",
        "outputId": "32af8547-0f23-4322-87c0-0c23dcbbc30d"
      },
      "source": [
        "model = LinearRegression()\n",
        "model.fit(x_trainF,y_trainF)\n",
        "y_pred = model.predict(x_validF)\n",
        "print(\"MSE: \",mean_squared_error(y_validF, y_pred))\n",
        "print(\"MAD: \", median_absolute_deviation(y_pred))\n",
        "print(\"R^2: \", r2_score(y_validF,y_pred))"
      ],
      "execution_count": 79,
      "outputs": [
        {
          "output_type": "stream",
          "text": [
            "MSE:  2.1880124791060704\n",
            "MAD:  0.21737336794330978\n",
            "R^2:  0.004481216392760445\n"
          ],
          "name": "stdout"
        }
      ]
    },
    {
      "cell_type": "code",
      "metadata": {
        "colab": {
          "base_uri": "https://localhost:8080/"
        },
        "id": "1RwuEoZmEzUN",
        "outputId": "7b47f3aa-a70c-4680-cebe-9c9daf0a1f1f"
      },
      "source": [
        "model = LinearRegression()\n",
        "model.fit(x_trainS,y_trainS)\n",
        "y_pred = model.predict(x_validS)\n",
        "print(\"MSE: \",mean_squared_error(y_validS, y_pred))\n",
        "print(\"MAD: \", median_absolute_deviation(y_pred))\n",
        "print(\"R^2: \", r2_score(y_validS,y_pred))"
      ],
      "execution_count": 80,
      "outputs": [
        {
          "output_type": "stream",
          "text": [
            "MSE:  2.121005239122418\n",
            "MAD:  0.22056661137096134\n",
            "R^2:  0.03496868695264399\n"
          ],
          "name": "stdout"
        }
      ]
    },
    {
      "cell_type": "code",
      "metadata": {
        "colab": {
          "base_uri": "https://localhost:8080/"
        },
        "id": "YOOqaCypF7QT",
        "outputId": "4f947951-2122-40af-95cd-cffbab405197"
      },
      "source": [
        "model = LinearRegression()\n",
        "model.fit(x_trainT,y_trainT)\n",
        "y_pred = model.predict(x_validT)\n",
        "print(\"MSE: \",mean_squared_error(y_validT, y_pred))\n",
        "print(\"MAD: \", median_absolute_deviation(y_pred))\n",
        "print(\"R^2: \", r2_score(y_validT,y_pred))"
      ],
      "execution_count": 81,
      "outputs": [
        {
          "output_type": "stream",
          "text": [
            "MSE:  2.244642954706527\n",
            "MAD:  0.14510059517715973\n",
            "R^2:  -0.021284953920810645\n"
          ],
          "name": "stdout"
        }
      ]
    },
    {
      "cell_type": "code",
      "metadata": {
        "colab": {
          "base_uri": "https://localhost:8080/"
        },
        "id": "lzaL6b4oGE6x",
        "outputId": "5e1ea677-4ea5-4e2e-c554-e1c133db444d"
      },
      "source": [
        "model = LinearRegression()\n",
        "model.fit(x_trainO,y_trainO)\n",
        "y_pred = model.predict(x_validO)\n",
        "print(\"MSE: \",mean_squared_error(y_validO, y_pred))\n",
        "print(\"MAD: \", median_absolute_deviation(y_pred))\n",
        "print(\"R^2: \", r2_score(y_validO,y_pred))"
      ],
      "execution_count": 146,
      "outputs": [
        {
          "output_type": "stream",
          "text": [
            "MSE:  2.1517602416438066\n",
            "MAD:  0.08393935336798071\n",
            "R^2:  0.020975538836578766\n"
          ],
          "name": "stdout"
        }
      ]
    },
    {
      "cell_type": "markdown",
      "metadata": {
        "id": "bhtd2kl7319J"
      },
      "source": [
        "### Regression Error Characteritic Curve"
      ]
    },
    {
      "cell_type": "code",
      "metadata": {
        "id": "14SCw82h1m2n"
      },
      "source": [
        "from scipy.integrate import simps\n",
        "# Defining a simple linear regression model\n",
        "\n",
        "LR = LinearRegression()\n",
        "\n",
        "# predicting using 10-folds cross-validation\n",
        "y_pred = cross_val_predict(LR, fourth_setup, y, cv=10)"
      ],
      "execution_count": 164,
      "outputs": []
    },
    {
      "cell_type": "code",
      "metadata": {
        "id": "Co4dx0NT3ztk"
      },
      "source": [
        "# Function for Regression Error Characteritic Curve\n",
        "\n",
        "def REC(y_true , y_pred):\n",
        "    \n",
        "    # initilizing the lists\n",
        "    Accuracy = []\n",
        "    \n",
        "    # initializing the values for Epsilon\n",
        "    Begin_Range = 0\n",
        "    End_Range = 1.5\n",
        "    Interval_Size = 0.01\n",
        "    \n",
        "    # List of epsilons\n",
        "    Epsilon = np.arange(Begin_Range , End_Range , Interval_Size)\n",
        "    \n",
        "    # Main Loops\n",
        "    for i in range(len(Epsilon)):\n",
        "        count = 0.0\n",
        "        for j in range(len(y_true)):\n",
        "            if np.linalg.norm(y_true[j] - y_pred[j]) / np.sqrt( np.linalg.norm(y_true[j]) **2 + np.linalg.norm(y_pred[j])**2 ) < Epsilon[i]:\n",
        "                count = count + 1\n",
        "        \n",
        "        Accuracy.append(count/len(y_true))\n",
        "    \n",
        "    # Calculating Area Under Curve using Simpson's rule\n",
        "    AUC = simps(Accuracy , Epsilon ) / End_Range\n",
        "        \n",
        "    # returning epsilon , accuracy , area under curve    \n",
        "    return Epsilon , Accuracy , AUC"
      ],
      "execution_count": 165,
      "outputs": []
    },
    {
      "cell_type": "code",
      "metadata": {
        "id": "xivs4a3r3545"
      },
      "source": [
        "Deviation , Accuracy, AUC = REC(y, y_pred)\n",
        "RR = r2_score(y, y_pred)"
      ],
      "execution_count": 166,
      "outputs": []
    },
    {
      "cell_type": "code",
      "metadata": {
        "colab": {
          "base_uri": "https://localhost:8080/",
          "height": 404
        },
        "id": "cFIZWf3d43D1",
        "outputId": "3a6b81d3-15b0-49b2-8c36-d5c439f866ae"
      },
      "source": [
        "plt.figure(figsize=(10,6))\n",
        "plt.title(\"Regression Error Characteristic (REC)\")\n",
        "plt.plot(Deviation, Accuracy, \"--b\",lw =3)\n",
        "plt.xlabel(\"Deviation\")\n",
        "plt.ylabel(\"Accuracy (%)\")\n",
        "plt.text(1.1, 0.07, \"AUC = %0.4f\" %AUC , fontsize=15)\n",
        "\n",
        "\n",
        "plt.show()"
      ],
      "execution_count": 167,
      "outputs": [
        {
          "output_type": "display_data",
          "data": {
            "image/png": "[encoded data removed]",
            "text/plain": [
              "<Figure size 720x432 with 1 Axes>"
            ]
          },
          "metadata": {
            "tags": [],
            "needs_background": "light"
          }
        }
      ]
    },
    {
      "cell_type": "markdown",
      "metadata": {
        "id": "OPykgAjTGoLS"
      },
      "source": [
        "#DecisionTree\n",
        "\n",
        "Again, the best DecisionTree model is with **third setup** of feature selection, but R^2 is still bad."
      ]
    },
    {
      "cell_type": "code",
      "metadata": {
        "colab": {
          "base_uri": "https://localhost:8080/"
        },
        "id": "wtqIOKGsGboA",
        "outputId": "65574363-d9a9-4285-8280-0ddebd7fd406"
      },
      "source": [
        "model = DecisionTreeRegressor(random_state=random_st)\n",
        "model.fit(x_trainF,y_trainF)\n",
        "y_pred = model.predict(x_validF)\n",
        "print(\"MSE: \",mean_squared_error(y_validF, y_pred))\n",
        "print(\"MAD: \", median_absolute_deviation(y_pred))\n",
        "print(\"R^2: \", r2_score(y_validF,y_pred))"
      ],
      "execution_count": 83,
      "outputs": [
        {
          "output_type": "stream",
          "text": [
            "MSE:  3.6029716857527707\n",
            "MAD:  0.894873412468406\n",
            "R^2:  -0.6393078303819133\n"
          ],
          "name": "stdout"
        }
      ]
    },
    {
      "cell_type": "code",
      "metadata": {
        "colab": {
          "base_uri": "https://localhost:8080/"
        },
        "id": "7aUGvBSYHJYQ",
        "outputId": "39d72dca-aa20-4b05-b4fc-277de7adc42a"
      },
      "source": [
        "model = DecisionTreeRegressor(random_state=random_st)\n",
        "model.fit(x_trainS,y_trainS)\n",
        "y_pred = model.predict(x_validS)\n",
        "print(\"MSE: \",mean_squared_error(y_validS, y_pred))\n",
        "print(\"MAD: \", median_absolute_deviation(y_pred))\n",
        "print(\"R^2: \", r2_score(y_validS,y_pred))"
      ],
      "execution_count": 84,
      "outputs": [
        {
          "output_type": "stream",
          "text": [
            "MSE:  3.857605850031126\n",
            "MAD:  0.0\n",
            "R^2:  -0.7551632452426185\n"
          ],
          "name": "stdout"
        }
      ]
    },
    {
      "cell_type": "code",
      "metadata": {
        "colab": {
          "base_uri": "https://localhost:8080/"
        },
        "id": "08OEWvZqHfAR",
        "outputId": "3e03ee3c-de41-4646-84da-58a620e890af"
      },
      "source": [
        "model = DecisionTreeRegressor(random_state=random_st)\n",
        "model.fit(x_trainT,y_trainT)\n",
        "y_pred = model.predict(x_validT)\n",
        "print(\"MSE: \",mean_squared_error(y_validT, y_pred))\n",
        "print(\"MAD: \", median_absolute_deviation(y_pred))\n",
        "print(\"R^2: \", r2_score(y_validT,y_pred))"
      ],
      "execution_count": 85,
      "outputs": [
        {
          "output_type": "stream",
          "text": [
            "MSE:  2.4200491444832073\n",
            "MAD:  1.0565946402915725\n",
            "R^2:  -0.10109261422949567\n"
          ],
          "name": "stdout"
        }
      ]
    },
    {
      "cell_type": "code",
      "metadata": {
        "colab": {
          "base_uri": "https://localhost:8080/"
        },
        "id": "0hQ3HrCfJZ1S",
        "outputId": "cde91730-7d75-4023-ed0f-6115903a2674"
      },
      "source": [
        "model = DecisionTreeRegressor(random_state=random_st)\n",
        "model.fit(x_trainO,y_trainO)\n",
        "y_pred = model.predict(x_validO)\n",
        "print(\"MSE: \",mean_squared_error(y_validO, y_pred))\n",
        "print(\"MAD: \", median_absolute_deviation(y_pred))\n",
        "print(\"R^2: \", r2_score(y_validO,y_pred))"
      ],
      "execution_count": 86,
      "outputs": [
        {
          "output_type": "stream",
          "text": [
            "MSE:  3.3015824985538043\n",
            "MAD:  1.2779335951597273\n",
            "R^2:  -0.5021794547908962\n"
          ],
          "name": "stdout"
        }
      ]
    },
    {
      "cell_type": "markdown",
      "metadata": {
        "id": "xvvYT1f9VFjX"
      },
      "source": [
        "## Tuning Hyperparameters of the model with third setup"
      ]
    },
    {
      "cell_type": "code",
      "metadata": {
        "colab": {
          "base_uri": "https://localhost:8080/",
          "height": 418
        },
        "id": "lZOz4I7_Mze7",
        "outputId": "73bb574c-379f-4b3a-9ede-702087bdd85c"
      },
      "source": [
        "params = {\"max_depth\":range(5,20), \"max_leaf_nodes\":range(50,150,5)}\n",
        "cv= RandomizedSearchCV(DecisionTreeRegressor(random_state=random_st), param_distributions=params, scoring='neg_mean_squared_error',cv=5,random_state=random_st)\n",
        "cv.fit(x_trainT,y_trainT)\n",
        "print(cv.best_estimator_)\n",
        "y_pred = cv.predict(x_validT)\n",
        "print(\"MSE: \",mean_squared_error(y_validT, y_pred))\n",
        "print(\"MAD: \", median_absolute_deviation(y_pred))\n",
        "print(\"R^2: \", r2_score(y_validT,y_pred))\n",
        "plt.scatter(y_validT,y_pred)\n",
        "plt.show()"
      ],
      "execution_count": 87,
      "outputs": [
        {
          "output_type": "stream",
          "text": [
            "DecisionTreeRegressor(ccp_alpha=0.0, criterion='mse', max_depth=5,\n",
            "                      max_features=None, max_leaf_nodes=95,\n",
            "                      min_impurity_decrease=0.0, min_impurity_split=None,\n",
            "                      min_samples_leaf=1, min_samples_split=2,\n",
            "                      min_weight_fraction_leaf=0.0, presort='deprecated',\n",
            "                      random_state=42, splitter='best')\n",
            "MSE:  2.356057954689679\n",
            "MAD:  0.3875454744546623\n",
            "R^2:  -0.0719774094337442\n"
          ],
          "name": "stdout"
        },
        {
          "output_type": "display_data",
          "data": {
            "image/png": "[encoded data removed]",
            "text/plain": [
              "<Figure size 432x288 with 1 Axes>"
            ]
          },
          "metadata": {
            "tags": [],
            "needs_background": "light"
          }
        }
      ]
    },
    {
      "cell_type": "markdown",
      "metadata": {
        "id": "zAXMdpIdZ8U3"
      },
      "source": [
        "# RandomForest"
      ]
    },
    {
      "cell_type": "code",
      "metadata": {
        "colab": {
          "base_uri": "https://localhost:8080/"
        },
        "id": "7xf-Pjx6X0kr",
        "outputId": "b5730534-d3f2-46d8-f97e-94dae9cf7f1a"
      },
      "source": [
        "model = RandomForestRegressor(random_state=random_st)\n",
        "model.fit(x_trainF,y_trainF)\n",
        "y_pred = model.predict(x_validF)\n",
        "print(\"MSE: \",mean_squared_error(y_validF, y_pred))\n",
        "print(\"MAD: \", median_absolute_deviation(y_pred))\n",
        "print(\"R^2: \", r2_score(y_validF,y_pred))"
      ],
      "execution_count": 88,
      "outputs": [
        {
          "output_type": "stream",
          "text": [
            "MSE:  2.3367004308851627\n",
            "MAD:  0.6360679748318993\n",
            "R^2:  -0.06316997403950309\n"
          ],
          "name": "stdout"
        }
      ]
    },
    {
      "cell_type": "code",
      "metadata": {
        "colab": {
          "base_uri": "https://localhost:8080/"
        },
        "id": "WuMwQV1gaJRu",
        "outputId": "777d96bd-4ce7-4ad6-88df-2b21aa068c6f"
      },
      "source": [
        "model = DecisionTreeRegressor(random_state=random_st)\n",
        "model.fit(x_trainS,y_trainS)\n",
        "y_pred = model.predict(x_validS)\n",
        "print(\"MSE: \",mean_squared_error(y_validS, y_pred))\n",
        "print(\"MAD: \", median_absolute_deviation(y_pred))\n",
        "print(\"R^2: \", r2_score(y_validS,y_pred))"
      ],
      "execution_count": 89,
      "outputs": [
        {
          "output_type": "stream",
          "text": [
            "MSE:  3.857605850031126\n",
            "MAD:  0.0\n",
            "R^2:  -0.7551632452426185\n"
          ],
          "name": "stdout"
        }
      ]
    },
    {
      "cell_type": "code",
      "metadata": {
        "colab": {
          "base_uri": "https://localhost:8080/"
        },
        "id": "qMVXkK6eaPFu",
        "outputId": "8dcd72a8-71f4-48a6-f633-535ebce137e7"
      },
      "source": [
        "model = DecisionTreeRegressor(random_state=random_st)\n",
        "model.fit(x_trainT,y_trainT)\n",
        "y_pred = model.predict(x_validT)\n",
        "print(\"MSE: \",mean_squared_error(y_validT, y_pred))\n",
        "print(\"MAD: \", median_absolute_deviation(y_pred))\n",
        "print(\"R^2: \", r2_score(y_validT,y_pred))"
      ],
      "execution_count": 90,
      "outputs": [
        {
          "output_type": "stream",
          "text": [
            "MSE:  2.4200491444832073\n",
            "MAD:  1.0565946402915725\n",
            "R^2:  -0.10109261422949567\n"
          ],
          "name": "stdout"
        }
      ]
    },
    {
      "cell_type": "code",
      "metadata": {
        "colab": {
          "base_uri": "https://localhost:8080/"
        },
        "id": "Xf47AgCLaRg2",
        "outputId": "fb28e144-492f-4dab-e068-532eafdbaa52"
      },
      "source": [
        "model = DecisionTreeRegressor(random_state=random_st)\n",
        "model.fit(x_trainO,y_trainO)\n",
        "y_pred = model.predict(x_validO)\n",
        "print(\"MSE: \",mean_squared_error(y_validO, y_pred))\n",
        "print(\"MAD: \", median_absolute_deviation(y_pred))\n",
        "print(\"R^2: \", r2_score(y_validO,y_pred))"
      ],
      "execution_count": 91,
      "outputs": [
        {
          "output_type": "stream",
          "text": [
            "MSE:  3.3015824985538043\n",
            "MAD:  1.2779335951597273\n",
            "R^2:  -0.5021794547908962\n"
          ],
          "name": "stdout"
        }
      ]
    },
    {
      "cell_type": "markdown",
      "metadata": {
        "id": "SdRKpSlOcCyN"
      },
      "source": [
        "## Tuning Hyperparameters of the model with first setup"
      ]
    },
    {
      "cell_type": "code",
      "metadata": {
        "colab": {
          "base_uri": "https://localhost:8080/",
          "height": 435
        },
        "id": "lDjAhOJ3aaDd",
        "outputId": "73b02396-d4c6-463b-8219-ed4551ae924c"
      },
      "source": [
        "params = {\"max_depth\":range(5,23), \"max_leaf_nodes\":range(50,170,5),\"n_estimators\":range(500)}\n",
        "cv= RandomizedSearchCV(RandomForestRegressor(random_state=random_st), param_distributions=params, scoring='neg_mean_squared_error',cv=5,random_state=random_st)\n",
        "cv.fit(x_trainF,y_trainF)\n",
        "print(cv.best_estimator_)\n",
        "y_pred = cv.predict(x_validF)\n",
        "print(\"MSE: \",mean_squared_error(y_validF, y_pred))\n",
        "print(\"MAD: \", median_absolute_deviation(y_pred))\n",
        "print(\"R^2: \", r2_score(y_validF,y_pred))\n",
        "plt.scatter(y_validF,y_pred)\n",
        "plt.show()"
      ],
      "execution_count": 92,
      "outputs": [
        {
          "output_type": "stream",
          "text": [
            "RandomForestRegressor(bootstrap=True, ccp_alpha=0.0, criterion='mse',\n",
            "                      max_depth=9, max_features='auto', max_leaf_nodes=115,\n",
            "                      max_samples=None, min_impurity_decrease=0.0,\n",
            "                      min_impurity_split=None, min_samples_leaf=1,\n",
            "                      min_samples_split=2, min_weight_fraction_leaf=0.0,\n",
            "                      n_estimators=386, n_jobs=None, oob_score=False,\n",
            "                      random_state=42, verbose=0, warm_start=False)\n",
            "MSE:  2.281953166696015\n",
            "MAD:  0.45754941779998715\n",
            "R^2:  -0.03826064177021382\n"
          ],
          "name": "stdout"
        },
        {
          "output_type": "display_data",
          "data": {
            "image/png": "[encoded data removed]",
            "text/plain": [
              "<Figure size 432x288 with 1 Axes>"
            ]
          },
          "metadata": {
            "tags": [],
            "needs_background": "light"
          }
        }
      ]
    },
    {
      "cell_type": "markdown",
      "metadata": {
        "id": "eIn-kclucufq"
      },
      "source": [
        "# Support Vector Machine (Soft)"
      ]
    },
    {
      "cell_type": "code",
      "metadata": {
        "colab": {
          "base_uri": "https://localhost:8080/"
        },
        "id": "BxJPhYD7c1kA",
        "outputId": "934bbf68-16fb-4ea4-acb2-4ef17508d377"
      },
      "source": [
        "x_trainF_scaled = scale(x_trainF)\n",
        "x_validF_scaled = scale(x_validF)\n",
        "model = SVR()\n",
        "model.fit(x_trainF_scaled, y_trainF)\n",
        "y_pred = model.predict(x_validF_scaled)\n",
        "print(\"MSE: \",mean_squared_error(y_validF, y_pred))\n",
        "print(\"MAD: \", median_absolute_deviation(y_pred))\n",
        "print(\"R^2: \", r2_score(y_validF,y_pred))"
      ],
      "execution_count": 93,
      "outputs": [
        {
          "output_type": "stream",
          "text": [
            "MSE:  2.4390745117973074\n",
            "MAD:  0.38664370512335955\n",
            "R^2:  -0.10974892250336454\n"
          ],
          "name": "stdout"
        }
      ]
    },
    {
      "cell_type": "code",
      "metadata": {
        "colab": {
          "base_uri": "https://localhost:8080/"
        },
        "id": "nUvl_sQBeZxa",
        "outputId": "fa275bf1-8f7b-4cb7-c397-b0ed98837628"
      },
      "source": [
        "x_train_scaled = scale(x_trainS)\n",
        "x_valid_scaled = scale(x_validS)\n",
        "model = SVR()\n",
        "model.fit(x_train_scaled, y_trainS)\n",
        "y_pred = model.predict(x_valid_scaled)\n",
        "print(\"MSE: \",mean_squared_error(y_validS, y_pred))\n",
        "print(\"MAD: \", median_absolute_deviation(y_pred))\n",
        "print(\"R^2: \", r2_score(y_validS,y_pred))"
      ],
      "execution_count": 94,
      "outputs": [
        {
          "output_type": "stream",
          "text": [
            "MSE:  2.521200924866604\n",
            "MAD:  0.39029031044575124\n",
            "R^2:  -0.14711543097692426\n"
          ],
          "name": "stdout"
        }
      ]
    },
    {
      "cell_type": "code",
      "metadata": {
        "colab": {
          "base_uri": "https://localhost:8080/"
        },
        "id": "Wd8fxtQGe4w1",
        "outputId": "b5f64f11-e764-428c-e453-7f3787370d0a"
      },
      "source": [
        "x_train_scaled = scale(x_trainT)\n",
        "x_valid_scaled = scale(x_validT)\n",
        "model = SVR()\n",
        "model.fit(x_train_scaled, y_trainT)\n",
        "y_pred = model.predict(x_valid_scaled)\n",
        "print(\"MSE: \",mean_squared_error(y_validT, y_pred))\n",
        "print(\"MAD: \", median_absolute_deviation(y_pred))\n",
        "print(\"R^2: \", r2_score(y_validT,y_pred))"
      ],
      "execution_count": 95,
      "outputs": [
        {
          "output_type": "stream",
          "text": [
            "MSE:  2.489453407204267\n",
            "MAD:  0.2811661330487531\n",
            "R^2:  -0.13267070067142295\n"
          ],
          "name": "stdout"
        }
      ]
    },
    {
      "cell_type": "code",
      "metadata": {
        "colab": {
          "base_uri": "https://localhost:8080/"
        },
        "id": "-mwIYBY6ehhU",
        "outputId": "e7fd1c04-75bd-40c0-bc40-b18d4e9f21df"
      },
      "source": [
        "x_train_scaled = scale(x_trainO)\n",
        "x_valid_scaled = scale(x_validO)\n",
        "model = SVR()\n",
        "model.fit(x_train_scaled, y_trainO)\n",
        "y_pred = model.predict(x_valid_scaled)\n",
        "print(\"MSE: \",mean_squared_error(y_validO, y_pred))\n",
        "print(\"MAD: \", median_absolute_deviation(y_pred))\n",
        "print(\"R^2: \", r2_score(y_validO,y_pred))"
      ],
      "execution_count": 96,
      "outputs": [
        {
          "output_type": "stream",
          "text": [
            "MSE:  2.424111657868092\n",
            "MAD:  0.3741587105497921\n",
            "R^2:  -0.1029410078844355\n"
          ],
          "name": "stdout"
        }
      ]
    },
    {
      "cell_type": "markdown",
      "metadata": {
        "id": "tGlD_oYtiWNZ"
      },
      "source": [
        "# Neural Network (First Setup)"
      ]
    },
    {
      "cell_type": "code",
      "metadata": {
        "colab": {
          "base_uri": "https://localhost:8080/"
        },
        "id": "UENgvC2TKVUB",
        "outputId": "58992a9b-1ce2-4bce-bf2f-9d11b8ee087b"
      },
      "source": [
        "model = tk.Sequential()\n",
        "model.add(tk.layers.Dense(8,activation = 'linear', kernel_initializer='uniform', input_dim=first_setup.shape[1]))\n",
        "model.add(tk.layers.Dropout(0.2))\n",
        "model.add(tk.layers.Dense(16,activation = 'linear', kernel_initializer='uniform'))\n",
        "model.add(tk.layers.Dropout(0.2))\n",
        "model.add(tk.layers.Dense(32,activation = 'linear', kernel_initializer='uniform'))\n",
        "model.add(tk.layers.Dropout(0.3))\n",
        "model.add(tk.layers.Dense(16,activation = 'linear', kernel_initializer='uniform'))\n",
        "model.add(tk.layers.Dropout(0.2))\n",
        "model.add(tk.layers.Dense(8,activation = 'linear', kernel_initializer='uniform'))\n",
        "model.add(tk.layers.Dropout(0.2))\n",
        "model.add(tk.layers.Dense(1,activation = 'linear', kernel_initializer='uniform'))\n",
        "\n",
        "model.compile(loss=\"mean_squared_error\", optimizer='Adamax', metrics=['mean_squared_error'])\n",
        "model.fit(x_trainF, y_trainF, epochs=150, batch_size=20, verbose=1)\n"
      ],
      "execution_count": 97,
      "outputs": [
        {
          "output_type": "stream",
          "text": [
            "Epoch 1/150\n",
            "21/21 [==============================] - 1s 2ms/step - loss: 3.0870 - mean_squared_error: 3.0870\n",
            "Epoch 2/150\n",
            "21/21 [==============================] - 0s 1ms/step - loss: 3.0439 - mean_squared_error: 3.0439\n",
            "Epoch 3/150\n",
            "21/21 [==============================] - 0s 1ms/step - loss: 2.9850 - mean_squared_error: 2.9850\n",
            "Epoch 4/150\n",
            "21/21 [==============================] - 0s 2ms/step - loss: 2.9021 - mean_squared_error: 2.9021\n",
            "Epoch 5/150\n",
            "21/21 [==============================] - 0s 2ms/step - loss: 2.7496 - mean_squared_error: 2.7496\n",
            "Epoch 6/150\n",
            "21/21 [==============================] - 0s 2ms/step - loss: 2.5332 - mean_squared_error: 2.5332\n",
            "Epoch 7/150\n",
            "21/21 [==============================] - 0s 2ms/step - loss: 2.2140 - mean_squared_error: 2.2140\n",
            "Epoch 8/150\n",
            "21/21 [==============================] - 0s 2ms/step - loss: 2.0369 - mean_squared_error: 2.0369\n",
            "Epoch 9/150\n",
            "21/21 [==============================] - 0s 2ms/step - loss: 1.9241 - mean_squared_error: 1.9241\n",
            "Epoch 10/150\n",
            "21/21 [==============================] - 0s 2ms/step - loss: 1.9065 - mean_squared_error: 1.9065\n",
            "Epoch 11/150\n",
            "21/21 [==============================] - 0s 2ms/step - loss: 1.9098 - mean_squared_error: 1.9098\n",
            "Epoch 12/150\n",
            "21/21 [==============================] - 0s 2ms/step - loss: 1.9341 - mean_squared_error: 1.9341\n",
            "Epoch 13/150\n",
            "21/21 [==============================] - 0s 2ms/step - loss: 1.9568 - mean_squared_error: 1.9568\n",
            "Epoch 14/150\n",
            "21/21 [==============================] - 0s 1ms/step - loss: 1.9196 - mean_squared_error: 1.9196\n",
            "Epoch 15/150\n",
            "21/21 [==============================] - 0s 2ms/step - loss: 1.8779 - mean_squared_error: 1.8779\n",
            "Epoch 16/150\n",
            "21/21 [==============================] - 0s 2ms/step - loss: 1.8850 - mean_squared_error: 1.8850\n",
            "Epoch 17/150\n",
            "21/21 [==============================] - 0s 2ms/step - loss: 1.9116 - mean_squared_error: 1.9116\n",
            "Epoch 18/150\n",
            "21/21 [==============================] - 0s 2ms/step - loss: 1.8961 - mean_squared_error: 1.8961\n",
            "Epoch 19/150\n",
            "21/21 [==============================] - 0s 2ms/step - loss: 1.9159 - mean_squared_error: 1.9159\n",
            "Epoch 20/150\n",
            "21/21 [==============================] - 0s 2ms/step - loss: 1.8815 - mean_squared_error: 1.8815\n",
            "Epoch 21/150\n",
            "21/21 [==============================] - 0s 2ms/step - loss: 1.9471 - mean_squared_error: 1.9471\n",
            "Epoch 22/150\n",
            "21/21 [==============================] - 0s 2ms/step - loss: 1.8899 - mean_squared_error: 1.8899\n",
            "Epoch 23/150\n",
            "21/21 [==============================] - 0s 2ms/step - loss: 1.9729 - mean_squared_error: 1.9729\n",
            "Epoch 24/150\n",
            "21/21 [==============================] - 0s 1ms/step - loss: 1.9162 - mean_squared_error: 1.9162\n",
            "Epoch 25/150\n",
            "21/21 [==============================] - 0s 1ms/step - loss: 1.9153 - mean_squared_error: 1.9153\n",
            "Epoch 26/150\n",
            "21/21 [==============================] - 0s 2ms/step - loss: 1.8789 - mean_squared_error: 1.8789\n",
            "Epoch 27/150\n",
            "21/21 [==============================] - 0s 1ms/step - loss: 1.9227 - mean_squared_error: 1.9227\n",
            "Epoch 28/150\n",
            "21/21 [==============================] - 0s 2ms/step - loss: 1.9158 - mean_squared_error: 1.9158\n",
            "Epoch 29/150\n",
            "21/21 [==============================] - 0s 2ms/step - loss: 1.8783 - mean_squared_error: 1.8783\n",
            "Epoch 30/150\n",
            "21/21 [==============================] - 0s 2ms/step - loss: 1.9129 - mean_squared_error: 1.9129\n",
            "Epoch 31/150\n",
            "21/21 [==============================] - 0s 2ms/step - loss: 1.9219 - mean_squared_error: 1.9219\n",
            "Epoch 32/150\n",
            "21/21 [==============================] - 0s 2ms/step - loss: 1.9359 - mean_squared_error: 1.9359\n",
            "Epoch 33/150\n",
            "21/21 [==============================] - 0s 2ms/step - loss: 1.9122 - mean_squared_error: 1.9122\n",
            "Epoch 34/150\n",
            "21/21 [==============================] - 0s 2ms/step - loss: 1.8844 - mean_squared_error: 1.8844\n",
            "Epoch 35/150\n",
            "21/21 [==============================] - 0s 1ms/step - loss: 1.8961 - mean_squared_error: 1.8961\n",
            "Epoch 36/150\n",
            "21/21 [==============================] - 0s 2ms/step - loss: 1.8906 - mean_squared_error: 1.8906\n",
            "Epoch 37/150\n",
            "21/21 [==============================] - 0s 2ms/step - loss: 1.9311 - mean_squared_error: 1.9311\n",
            "Epoch 38/150\n",
            "21/21 [==============================] - 0s 2ms/step - loss: 1.9182 - mean_squared_error: 1.9182\n",
            "Epoch 39/150\n",
            "21/21 [==============================] - 0s 2ms/step - loss: 1.8579 - mean_squared_error: 1.8579\n",
            "Epoch 40/150\n",
            "21/21 [==============================] - 0s 2ms/step - loss: 1.9220 - mean_squared_error: 1.9220\n",
            "Epoch 41/150\n",
            "21/21 [==============================] - 0s 2ms/step - loss: 1.8643 - mean_squared_error: 1.8643\n",
            "Epoch 42/150\n",
            "21/21 [==============================] - 0s 2ms/step - loss: 1.8672 - mean_squared_error: 1.8672\n",
            "Epoch 43/150\n",
            "21/21 [==============================] - 0s 2ms/step - loss: 1.9405 - mean_squared_error: 1.9405\n",
            "Epoch 44/150\n",
            "21/21 [==============================] - 0s 2ms/step - loss: 1.9118 - mean_squared_error: 1.9118\n",
            "Epoch 45/150\n",
            "21/21 [==============================] - 0s 2ms/step - loss: 1.8900 - mean_squared_error: 1.8900\n",
            "Epoch 46/150\n",
            "21/21 [==============================] - 0s 2ms/step - loss: 1.8586 - mean_squared_error: 1.8586\n",
            "Epoch 47/150\n",
            "21/21 [==============================] - 0s 1ms/step - loss: 1.8980 - mean_squared_error: 1.8980\n",
            "Epoch 48/150\n",
            "21/21 [==============================] - 0s 1ms/step - loss: 1.8897 - mean_squared_error: 1.8897\n",
            "Epoch 49/150\n",
            "21/21 [==============================] - 0s 2ms/step - loss: 1.9077 - mean_squared_error: 1.9077\n",
            "Epoch 50/150\n",
            "21/21 [==============================] - 0s 2ms/step - loss: 1.8684 - mean_squared_error: 1.8684\n",
            "Epoch 51/150\n",
            "21/21 [==============================] - 0s 2ms/step - loss: 1.9194 - mean_squared_error: 1.9194\n",
            "Epoch 52/150\n",
            "21/21 [==============================] - 0s 2ms/step - loss: 1.8638 - mean_squared_error: 1.8638\n",
            "Epoch 53/150\n",
            "21/21 [==============================] - 0s 2ms/step - loss: 1.9003 - mean_squared_error: 1.9003\n",
            "Epoch 54/150\n",
            "21/21 [==============================] - 0s 2ms/step - loss: 1.8564 - mean_squared_error: 1.8564\n",
            "Epoch 55/150\n",
            "21/21 [==============================] - 0s 2ms/step - loss: 1.8828 - mean_squared_error: 1.8828\n",
            "Epoch 56/150\n",
            "21/21 [==============================] - 0s 2ms/step - loss: 1.9125 - mean_squared_error: 1.9125\n",
            "Epoch 57/150\n",
            "21/21 [==============================] - 0s 2ms/step - loss: 1.8436 - mean_squared_error: 1.8436\n",
            "Epoch 58/150\n",
            "21/21 [==============================] - 0s 2ms/step - loss: 1.8921 - mean_squared_error: 1.8921\n",
            "Epoch 59/150\n",
            "21/21 [==============================] - 0s 2ms/step - loss: 1.9271 - mean_squared_error: 1.9271\n",
            "Epoch 60/150\n",
            "21/21 [==============================] - 0s 2ms/step - loss: 1.8764 - mean_squared_error: 1.8764\n",
            "Epoch 61/150\n",
            "21/21 [==============================] - 0s 2ms/step - loss: 1.8876 - mean_squared_error: 1.8876\n",
            "Epoch 62/150\n",
            "21/21 [==============================] - 0s 2ms/step - loss: 1.8609 - mean_squared_error: 1.8609\n",
            "Epoch 63/150\n",
            "21/21 [==============================] - 0s 2ms/step - loss: 1.9568 - mean_squared_error: 1.9568\n",
            "Epoch 64/150\n",
            "21/21 [==============================] - 0s 2ms/step - loss: 1.9227 - mean_squared_error: 1.9227\n",
            "Epoch 65/150\n",
            "21/21 [==============================] - 0s 2ms/step - loss: 1.8718 - mean_squared_error: 1.8718\n",
            "Epoch 66/150\n",
            "21/21 [==============================] - 0s 2ms/step - loss: 1.9107 - mean_squared_error: 1.9107\n",
            "Epoch 67/150\n",
            "21/21 [==============================] - 0s 2ms/step - loss: 1.9780 - mean_squared_error: 1.9780\n",
            "Epoch 68/150\n",
            "21/21 [==============================] - 0s 2ms/step - loss: 1.9287 - mean_squared_error: 1.9287\n",
            "Epoch 69/150\n",
            "21/21 [==============================] - 0s 2ms/step - loss: 1.9211 - mean_squared_error: 1.9211\n",
            "Epoch 70/150\n",
            "21/21 [==============================] - 0s 2ms/step - loss: 1.8642 - mean_squared_error: 1.8642\n",
            "Epoch 71/150\n",
            "21/21 [==============================] - 0s 2ms/step - loss: 1.8877 - mean_squared_error: 1.8877\n",
            "Epoch 72/150\n",
            "21/21 [==============================] - 0s 2ms/step - loss: 1.8777 - mean_squared_error: 1.8777\n",
            "Epoch 73/150\n",
            "21/21 [==============================] - 0s 2ms/step - loss: 1.8891 - mean_squared_error: 1.8891\n",
            "Epoch 74/150\n",
            "21/21 [==============================] - 0s 2ms/step - loss: 1.8963 - mean_squared_error: 1.8963\n",
            "Epoch 75/150\n",
            "21/21 [==============================] - 0s 2ms/step - loss: 1.8370 - mean_squared_error: 1.8370\n",
            "Epoch 76/150\n",
            "21/21 [==============================] - 0s 2ms/step - loss: 1.9421 - mean_squared_error: 1.9421\n",
            "Epoch 77/150\n",
            "21/21 [==============================] - 0s 2ms/step - loss: 1.8815 - mean_squared_error: 1.8815\n",
            "Epoch 78/150\n",
            "21/21 [==============================] - 0s 2ms/step - loss: 1.9204 - mean_squared_error: 1.9204\n",
            "Epoch 79/150\n",
            "21/21 [==============================] - 0s 2ms/step - loss: 1.8630 - mean_squared_error: 1.8630\n",
            "Epoch 80/150\n",
            "21/21 [==============================] - 0s 2ms/step - loss: 1.8866 - mean_squared_error: 1.8866\n",
            "Epoch 81/150\n",
            "21/21 [==============================] - 0s 2ms/step - loss: 1.9418 - mean_squared_error: 1.9418\n",
            "Epoch 82/150\n",
            "21/21 [==============================] - 0s 2ms/step - loss: 1.8525 - mean_squared_error: 1.8525\n",
            "Epoch 83/150\n",
            "21/21 [==============================] - 0s 2ms/step - loss: 1.8767 - mean_squared_error: 1.8767\n",
            "Epoch 84/150\n",
            "21/21 [==============================] - 0s 2ms/step - loss: 1.8690 - mean_squared_error: 1.8690\n",
            "Epoch 85/150\n",
            "21/21 [==============================] - 0s 2ms/step - loss: 1.8998 - mean_squared_error: 1.8998\n",
            "Epoch 86/150\n",
            "21/21 [==============================] - 0s 2ms/step - loss: 1.9456 - mean_squared_error: 1.9456\n",
            "Epoch 87/150\n",
            "21/21 [==============================] - 0s 2ms/step - loss: 1.8839 - mean_squared_error: 1.8839\n",
            "Epoch 88/150\n",
            "21/21 [==============================] - 0s 2ms/step - loss: 1.8847 - mean_squared_error: 1.8847\n",
            "Epoch 89/150\n",
            "21/21 [==============================] - 0s 2ms/step - loss: 1.8579 - mean_squared_error: 1.8579\n",
            "Epoch 90/150\n",
            "21/21 [==============================] - 0s 2ms/step - loss: 1.8686 - mean_squared_error: 1.8686\n",
            "Epoch 91/150\n",
            "21/21 [==============================] - 0s 2ms/step - loss: 1.9215 - mean_squared_error: 1.9215\n",
            "Epoch 92/150\n",
            "21/21 [==============================] - 0s 2ms/step - loss: 1.9116 - mean_squared_error: 1.9116\n",
            "Epoch 93/150\n",
            "21/21 [==============================] - 0s 2ms/step - loss: 1.8860 - mean_squared_error: 1.8860\n",
            "Epoch 94/150\n",
            "21/21 [==============================] - 0s 2ms/step - loss: 1.9081 - mean_squared_error: 1.9081\n",
            "Epoch 95/150\n",
            "21/21 [==============================] - 0s 2ms/step - loss: 1.9378 - mean_squared_error: 1.9378\n",
            "Epoch 96/150\n",
            "21/21 [==============================] - 0s 2ms/step - loss: 1.9113 - mean_squared_error: 1.9113\n",
            "Epoch 97/150\n",
            "21/21 [==============================] - 0s 2ms/step - loss: 1.9088 - mean_squared_error: 1.9088\n",
            "Epoch 98/150\n",
            "21/21 [==============================] - 0s 2ms/step - loss: 1.8807 - mean_squared_error: 1.8807\n",
            "Epoch 99/150\n",
            "21/21 [==============================] - 0s 2ms/step - loss: 1.9149 - mean_squared_error: 1.9149\n",
            "Epoch 100/150\n",
            "21/21 [==============================] - 0s 2ms/step - loss: 1.8402 - mean_squared_error: 1.8402\n",
            "Epoch 101/150\n",
            "21/21 [==============================] - 0s 2ms/step - loss: 1.9168 - mean_squared_error: 1.9168\n",
            "Epoch 102/150\n",
            "21/21 [==============================] - 0s 2ms/step - loss: 1.8770 - mean_squared_error: 1.8770\n",
            "Epoch 103/150\n",
            "21/21 [==============================] - 0s 2ms/step - loss: 1.8858 - mean_squared_error: 1.8858\n",
            "Epoch 104/150\n",
            "21/21 [==============================] - 0s 2ms/step - loss: 1.9070 - mean_squared_error: 1.9070\n",
            "Epoch 105/150\n",
            "21/21 [==============================] - 0s 2ms/step - loss: 1.9348 - mean_squared_error: 1.9348\n",
            "Epoch 106/150\n",
            "21/21 [==============================] - 0s 2ms/step - loss: 1.8874 - mean_squared_error: 1.8874\n",
            "Epoch 107/150\n",
            "21/21 [==============================] - 0s 2ms/step - loss: 1.8955 - mean_squared_error: 1.8955\n",
            "Epoch 108/150\n",
            "21/21 [==============================] - 0s 2ms/step - loss: 1.8697 - mean_squared_error: 1.8697\n",
            "Epoch 109/150\n",
            "21/21 [==============================] - 0s 2ms/step - loss: 1.9030 - mean_squared_error: 1.9030\n",
            "Epoch 110/150\n",
            "21/21 [==============================] - 0s 2ms/step - loss: 1.8766 - mean_squared_error: 1.8766\n",
            "Epoch 111/150\n",
            "21/21 [==============================] - 0s 2ms/step - loss: 1.9160 - mean_squared_error: 1.9160\n",
            "Epoch 112/150\n",
            "21/21 [==============================] - 0s 2ms/step - loss: 1.8974 - mean_squared_error: 1.8974\n",
            "Epoch 113/150\n",
            "21/21 [==============================] - 0s 2ms/step - loss: 1.8979 - mean_squared_error: 1.8979\n",
            "Epoch 114/150\n",
            "21/21 [==============================] - 0s 2ms/step - loss: 1.9177 - mean_squared_error: 1.9177\n",
            "Epoch 115/150\n",
            "21/21 [==============================] - 0s 2ms/step - loss: 1.8673 - mean_squared_error: 1.8673\n",
            "Epoch 116/150\n",
            "21/21 [==============================] - 0s 2ms/step - loss: 1.8935 - mean_squared_error: 1.8935\n",
            "Epoch 117/150\n",
            "21/21 [==============================] - 0s 2ms/step - loss: 1.9072 - mean_squared_error: 1.9072\n",
            "Epoch 118/150\n",
            "21/21 [==============================] - 0s 2ms/step - loss: 1.8897 - mean_squared_error: 1.8897\n",
            "Epoch 119/150\n",
            "21/21 [==============================] - 0s 2ms/step - loss: 1.8969 - mean_squared_error: 1.8969\n",
            "Epoch 120/150\n",
            "21/21 [==============================] - 0s 2ms/step - loss: 1.9462 - mean_squared_error: 1.9462\n",
            "Epoch 121/150\n",
            "21/21 [==============================] - 0s 2ms/step - loss: 1.8672 - mean_squared_error: 1.8672\n",
            "Epoch 122/150\n",
            "21/21 [==============================] - 0s 2ms/step - loss: 1.9008 - mean_squared_error: 1.9008\n",
            "Epoch 123/150\n",
            "21/21 [==============================] - 0s 2ms/step - loss: 1.8710 - mean_squared_error: 1.8710\n",
            "Epoch 124/150\n",
            "21/21 [==============================] - 0s 2ms/step - loss: 1.9058 - mean_squared_error: 1.9058\n",
            "Epoch 125/150\n",
            "21/21 [==============================] - 0s 3ms/step - loss: 1.8769 - mean_squared_error: 1.8769\n",
            "Epoch 126/150\n",
            "21/21 [==============================] - 0s 2ms/step - loss: 1.8504 - mean_squared_error: 1.8504\n",
            "Epoch 127/150\n",
            "21/21 [==============================] - 0s 2ms/step - loss: 1.8483 - mean_squared_error: 1.8483\n",
            "Epoch 128/150\n",
            "21/21 [==============================] - 0s 2ms/step - loss: 1.9402 - mean_squared_error: 1.9402\n",
            "Epoch 129/150\n",
            "21/21 [==============================] - 0s 2ms/step - loss: 1.8656 - mean_squared_error: 1.8656\n",
            "Epoch 130/150\n",
            "21/21 [==============================] - 0s 2ms/step - loss: 1.8634 - mean_squared_error: 1.8634\n",
            "Epoch 131/150\n",
            "21/21 [==============================] - 0s 2ms/step - loss: 1.8857 - mean_squared_error: 1.8857\n",
            "Epoch 132/150\n",
            "21/21 [==============================] - 0s 2ms/step - loss: 1.8827 - mean_squared_error: 1.8827\n",
            "Epoch 133/150\n",
            "21/21 [==============================] - 0s 2ms/step - loss: 1.9053 - mean_squared_error: 1.9053\n",
            "Epoch 134/150\n",
            "21/21 [==============================] - 0s 2ms/step - loss: 1.8712 - mean_squared_error: 1.8712\n",
            "Epoch 135/150\n",
            "21/21 [==============================] - 0s 2ms/step - loss: 1.8533 - mean_squared_error: 1.8533\n",
            "Epoch 136/150\n",
            "21/21 [==============================] - 0s 2ms/step - loss: 1.9076 - mean_squared_error: 1.9076\n",
            "Epoch 137/150\n",
            "21/21 [==============================] - 0s 2ms/step - loss: 1.8876 - mean_squared_error: 1.8876\n",
            "Epoch 138/150\n",
            "21/21 [==============================] - 0s 2ms/step - loss: 1.9379 - mean_squared_error: 1.9379\n",
            "Epoch 139/150\n",
            "21/21 [==============================] - 0s 2ms/step - loss: 1.8777 - mean_squared_error: 1.8777\n",
            "Epoch 140/150\n",
            "21/21 [==============================] - 0s 2ms/step - loss: 1.9276 - mean_squared_error: 1.9276\n",
            "Epoch 141/150\n",
            "21/21 [==============================] - 0s 2ms/step - loss: 1.8648 - mean_squared_error: 1.8648\n",
            "Epoch 142/150\n",
            "21/21 [==============================] - 0s 2ms/step - loss: 1.8979 - mean_squared_error: 1.8979\n",
            "Epoch 143/150\n",
            "21/21 [==============================] - 0s 2ms/step - loss: 1.9240 - mean_squared_error: 1.9240\n",
            "Epoch 144/150\n",
            "21/21 [==============================] - 0s 2ms/step - loss: 1.8762 - mean_squared_error: 1.8762\n",
            "Epoch 145/150\n",
            "21/21 [==============================] - 0s 2ms/step - loss: 1.8349 - mean_squared_error: 1.8349\n",
            "Epoch 146/150\n",
            "21/21 [==============================] - 0s 1ms/step - loss: 1.8999 - mean_squared_error: 1.8999\n",
            "Epoch 147/150\n",
            "21/21 [==============================] - 0s 2ms/step - loss: 1.8536 - mean_squared_error: 1.8536\n",
            "Epoch 148/150\n",
            "21/21 [==============================] - 0s 2ms/step - loss: 1.9146 - mean_squared_error: 1.9146\n",
            "Epoch 149/150\n",
            "21/21 [==============================] - 0s 2ms/step - loss: 1.8986 - mean_squared_error: 1.8986\n",
            "Epoch 150/150\n",
            "21/21 [==============================] - 0s 2ms/step - loss: 1.9014 - mean_squared_error: 1.9014\n"
          ],
          "name": "stdout"
        },
        {
          "output_type": "execute_result",
          "data": {
            "text/plain": [
              "<tensorflow.python.keras.callbacks.History at 0x7ffb461d7e50>"
            ]
          },
          "metadata": {
            "tags": []
          },
          "execution_count": 97
        }
      ]
    },
    {
      "cell_type": "code",
      "metadata": {
        "colab": {
          "base_uri": "https://localhost:8080/"
        },
        "id": "V4HJxGy_dGUb",
        "outputId": "2333bd4a-ccb9-49d8-8f9d-4bb0cf6cf7fc"
      },
      "source": [
        "y_pred = model.predict(x_validF)\n",
        "print('MSE: ', mean_squared_error(y_validF, y_pred))\n",
        "print('MAD: ', median_absolute_deviation(y_pred[0]))\n",
        "print('R^2: ', r2_score(y_validF, y_pred))"
      ],
      "execution_count": 98,
      "outputs": [
        {
          "output_type": "stream",
          "text": [
            "MSE:  2.2155338170839958\n",
            "MAD:  0.0\n",
            "R^2:  -0.008040654103253164\n"
          ],
          "name": "stdout"
        }
      ]
    },
    {
      "cell_type": "markdown",
      "metadata": {
        "id": "wrS4dDYWiaFt"
      },
      "source": [
        "# Neural Network (Second Setup)"
      ]
    },
    {
      "cell_type": "code",
      "metadata": {
        "colab": {
          "base_uri": "https://localhost:8080/"
        },
        "id": "45ICAZtShu26",
        "outputId": "9afd399b-b20e-4718-9d50-a44b7379d401"
      },
      "source": [
        "model = tk.Sequential()\n",
        "model.add(tk.layers.Dense(8,activation = 'linear', kernel_initializer='uniform', input_dim=second_setup.shape[1]))\n",
        "model.add(tk.layers.Dropout(0.2))\n",
        "model.add(tk.layers.Dense(16,activation = 'linear', kernel_initializer='uniform'))\n",
        "model.add(tk.layers.Dropout(0.2))\n",
        "model.add(tk.layers.Dense(32,activation = 'linear', kernel_initializer='uniform'))\n",
        "model.add(tk.layers.Dropout(0.3))\n",
        "model.add(tk.layers.Dense(16,activation = 'linear', kernel_initializer='uniform'))\n",
        "model.add(tk.layers.Dropout(0.2))\n",
        "model.add(tk.layers.Dense(8,activation = 'linear', kernel_initializer='uniform'))\n",
        "model.add(tk.layers.Dropout(0.2))\n",
        "model.add(tk.layers.Dense(1,activation = 'linear', kernel_initializer='uniform'))\n",
        "\n",
        "model.compile(loss=\"mean_squared_error\", optimizer='Adamax', metrics=['mean_squared_error'])\n",
        "model.fit(x_trainS, y_trainS, epochs=100, batch_size=15, verbose=0)\n",
        "\n",
        "y_pred = model.predict(x_validS)\n",
        "print('MSE: ', mean_squared_error(y_validS, y_pred))\n",
        "print('MAD: ', median_absolute_deviation(y_pred[0]))\n",
        "print('R^2: ', r2_score(y_validS, y_pred))\n"
      ],
      "execution_count": 99,
      "outputs": [
        {
          "output_type": "stream",
          "text": [
            "MSE:  2.1338137276973868\n",
            "MAD:  0.0\n",
            "R^2:  0.02914098208909144\n"
          ],
          "name": "stdout"
        }
      ]
    },
    {
      "cell_type": "markdown",
      "metadata": {
        "id": "yT22xNyHjofN"
      },
      "source": [
        "# Neural Network (Thrid Setup)"
      ]
    },
    {
      "cell_type": "code",
      "metadata": {
        "colab": {
          "base_uri": "https://localhost:8080/"
        },
        "id": "t4hZ9D24joJP",
        "outputId": "8e22e93c-2d1d-4f35-c472-9d970c032c03"
      },
      "source": [
        "model = tk.Sequential()\n",
        "model.add(tk.layers.Dense(4,activation = 'linear', kernel_initializer='uniform', input_dim=third_setup.shape[1]))\n",
        "model.add(tk.layers.Dropout(0.2))\n",
        "model.add(tk.layers.Dense(8,activation = 'linear', kernel_initializer='uniform'))\n",
        "model.add(tk.layers.Dropout(0.2))\n",
        "model.add(tk.layers.Dense(16,activation = 'linear', kernel_initializer='uniform'))\n",
        "model.add(tk.layers.Dropout(0.3))\n",
        "model.add(tk.layers.Dense(8,activation = 'linear', kernel_initializer='uniform'))\n",
        "model.add(tk.layers.Dropout(0.2))\n",
        "model.add(tk.layers.Dense(4,activation = 'linear', kernel_initializer='uniform'))\n",
        "model.add(tk.layers.Dropout(0.2))\n",
        "model.add(tk.layers.Dense(1,activation = 'linear', kernel_initializer='uniform'))\n",
        "\n",
        "model.compile(loss=\"mean_squared_error\", optimizer='Adamax', metrics=['mean_squared_error'])\n",
        "model.fit(x_trainT, y_trainT, epochs=100, batch_size=15, verbose=0)\n",
        "\n",
        "y_pred = model.predict(x_validT)\n",
        "print('MSE: ', mean_squared_error(y_validT, y_pred))\n",
        "print('MAD: ', median_absolute_deviation(y_pred[0]))\n",
        "print('R^2: ', r2_score(y_validT, y_pred))\n"
      ],
      "execution_count": 100,
      "outputs": [
        {
          "output_type": "stream",
          "text": [
            "MSE:  2.21717570422613\n",
            "MAD:  0.0\n",
            "R^2:  -0.008787692571345262\n"
          ],
          "name": "stdout"
        }
      ]
    },
    {
      "cell_type": "markdown",
      "metadata": {
        "id": "_4oNHYo_ka-v"
      },
      "source": [
        "# Neural Network (Fourth Setup)"
      ]
    },
    {
      "cell_type": "code",
      "metadata": {
        "colab": {
          "base_uri": "https://localhost:8080/"
        },
        "id": "O4M5la6IisFA",
        "outputId": "eb585d94-38cd-469b-d918-bc0e6c1386a2"
      },
      "source": [
        "model = tk.Sequential()\n",
        "model.add(tk.layers.Dense(8,activation = 'linear', kernel_initializer='uniform', input_dim=fourth_setup.shape[1]))\n",
        "model.add(tk.layers.Dropout(0.2))\n",
        "model.add(tk.layers.Dense(16,activation = 'linear', kernel_initializer='uniform'))\n",
        "model.add(tk.layers.Dropout(0.2))\n",
        "model.add(tk.layers.Dense(32,activation = 'linear', kernel_initializer='uniform'))\n",
        "model.add(tk.layers.Dropout(0.3))\n",
        "model.add(tk.layers.Dense(16,activation = 'linear', kernel_initializer='uniform'))\n",
        "model.add(tk.layers.Dropout(0.2))\n",
        "model.add(tk.layers.Dense(8,activation = 'linear', kernel_initializer='uniform'))\n",
        "model.add(tk.layers.Dropout(0.2))\n",
        "model.add(tk.layers.Dense(1,activation = 'linear', kernel_initializer='uniform'))\n",
        "\n",
        "model.compile(loss=\"mean_squared_error\", optimizer='Adamax', metrics=['mean_squared_error'])\n",
        "model.fit(x_trainO, y_trainO, epochs=100, batch_size=15, verbose=0)\n",
        "\n",
        "y_pred = model.predict(x_validO)\n",
        "print('MSE: ', mean_squared_error(y_validO, y_pred))\n",
        "print('MAD: ', median_absolute_deviation(y_pred[0]))\n",
        "print('R^2: ', r2_score(y_validO, y_pred))\n"
      ],
      "execution_count": 101,
      "outputs": [
        {
          "output_type": "stream",
          "text": [
            "MSE:  2.1626600524367885\n",
            "MAD:  0.0\n",
            "R^2:  0.01601625890294167\n"
          ],
          "name": "stdout"
        }
      ]
    },
    {
      "cell_type": "markdown",
      "metadata": {
        "id": "B9CrdopIob80"
      },
      "source": [
        "# Polynomial Regression"
      ]
    },
    {
      "cell_type": "code",
      "metadata": {
        "colab": {
          "base_uri": "https://localhost:8080/"
        },
        "id": "XX_fBUkNmdIE",
        "outputId": "5b7c71ad-7bda-4db3-be83-05be040759bc"
      },
      "source": [
        "#First Setup\n",
        "poly= PolynomialFeatures(degree = 2)\n",
        "x_poly_trainF  = poly.fit_transform(x_trainF)\n",
        "x_poly_validF = poly.transform(x_validF)\n",
        "\n",
        "model = LinearRegression()\n",
        "model.fit(x_poly_trainF, y_trainF)\n",
        "y_pred = model.predict(x_poly_validF)\n",
        "print('MSE: ', mean_squared_error(y_validF, y_pred))\n",
        "print('MAD: ', median_absolute_deviation(y_pred))\n",
        "print('R^2: ', r2_score(y_validF, y_pred))"
      ],
      "execution_count": 115,
      "outputs": [
        {
          "output_type": "stream",
          "text": [
            "MSE:  2.292881642186692\n",
            "MAD:  0.4226846966333737\n",
            "R^2:  -0.043232963788964573\n"
          ],
          "name": "stdout"
        }
      ]
    },
    {
      "cell_type": "code",
      "metadata": {
        "colab": {
          "base_uri": "https://localhost:8080/"
        },
        "id": "VQyhxVh-mp6t",
        "outputId": "c46205af-1417-4d41-939b-7cb9a616f5ff"
      },
      "source": [
        "#Second Setup, no need for Third setup and Fourth setup\n",
        "poly= PolynomialFeatures(degree = 2)\n",
        "x_poly_trainS  = poly.fit_transform(x_trainS)\n",
        "x_poly_validS = poly.transform(x_validS)\n",
        "\n",
        "model = LinearRegression()\n",
        "model.fit(x_poly_trainS, y_trainS)\n",
        "y_pred = model.predict(x_poly_validS)\n",
        "print('MSE: ', mean_squared_error(y_validS, y_pred))\n",
        "print('MAD: ', median_absolute_deviation(y_pred))\n",
        "print('R^2: ', r2_score(y_validS, y_pred))"
      ],
      "execution_count": 117,
      "outputs": [
        {
          "output_type": "stream",
          "text": [
            "MSE:  2.298257271660168\n",
            "MAD:  0.35157356213498453\n",
            "R^2:  -0.0456788091237883\n"
          ],
          "name": "stdout"
        }
      ]
    }
  ]
}